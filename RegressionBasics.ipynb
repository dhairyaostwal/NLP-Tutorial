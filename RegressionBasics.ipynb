{
  "nbformat": 4,
  "nbformat_minor": 0,
  "metadata": {
    "colab": {
      "name": "RegressionBasics.ipynb",
      "provenance": [],
      "mount_file_id": "14aAzvhAQnxWBcPoAgp_s-5IfbM2daIKz",
      "authorship_tag": "ABX9TyNJzu8Wk6QwjELZeeav7eV3",
      "include_colab_link": true
    },
    "kernelspec": {
      "name": "python3",
      "display_name": "Python 3"
    }
  },
  "cells": [
    {
      "cell_type": "markdown",
      "metadata": {
        "id": "view-in-github",
        "colab_type": "text"
      },
      "source": [
        "<a href=\"https://colab.research.google.com/github/dhairyaostwal/NLP-Tutorial/blob/main/RegressionBasics.ipynb\" target=\"_parent\"><img src=\"https://colab.research.google.com/assets/colab-badge.svg\" alt=\"Open In Colab\"/></a>"
      ]
    },
    {
      "cell_type": "markdown",
      "metadata": {
        "id": "GQ4XzrwM0PMu"
      },
      "source": [
        "# Machine Learning Basics\n",
        "\n",
        "## Regression"
      ]
    },
    {
      "cell_type": "code",
      "metadata": {
        "id": "fxXqX4tC0XQF"
      },
      "source": [
        "import numpy as np\n",
        "import pandas as pd"
      ],
      "execution_count": 1,
      "outputs": []
    },
    {
      "cell_type": "markdown",
      "metadata": {
        "id": "j3GWc1XB80K-"
      },
      "source": [
        "Dataset Source: https://archive.ics.uci.edu/ml/datasets/Airfoil+Self-Noise"
      ]
    },
    {
      "cell_type": "code",
      "metadata": {
        "id": "ypR77qce0fCO"
      },
      "source": [
        "df = pd.read_csv('../airfoil_self_noise.dat', sep='\\t', header=None)"
      ],
      "execution_count": 2,
      "outputs": []
    },
    {
      "cell_type": "code",
      "metadata": {
        "id": "7ponBN9t8Rg-",
        "outputId": "a456dbb1-7ba1-4964-97f5-e3446ebb53d3",
        "colab": {
          "base_uri": "https://localhost:8080/",
          "height": 204
        }
      },
      "source": [
        "df.head()"
      ],
      "execution_count": 3,
      "outputs": [
        {
          "output_type": "execute_result",
          "data": {
            "text/html": [
              "<div>\n",
              "<style scoped>\n",
              "    .dataframe tbody tr th:only-of-type {\n",
              "        vertical-align: middle;\n",
              "    }\n",
              "\n",
              "    .dataframe tbody tr th {\n",
              "        vertical-align: top;\n",
              "    }\n",
              "\n",
              "    .dataframe thead th {\n",
              "        text-align: right;\n",
              "    }\n",
              "</style>\n",
              "<table border=\"1\" class=\"dataframe\">\n",
              "  <thead>\n",
              "    <tr style=\"text-align: right;\">\n",
              "      <th></th>\n",
              "      <th>0</th>\n",
              "      <th>1</th>\n",
              "      <th>2</th>\n",
              "      <th>3</th>\n",
              "      <th>4</th>\n",
              "      <th>5</th>\n",
              "    </tr>\n",
              "  </thead>\n",
              "  <tbody>\n",
              "    <tr>\n",
              "      <th>0</th>\n",
              "      <td>800</td>\n",
              "      <td>0.0</td>\n",
              "      <td>0.3048</td>\n",
              "      <td>71.3</td>\n",
              "      <td>0.002663</td>\n",
              "      <td>126.201</td>\n",
              "    </tr>\n",
              "    <tr>\n",
              "      <th>1</th>\n",
              "      <td>1000</td>\n",
              "      <td>0.0</td>\n",
              "      <td>0.3048</td>\n",
              "      <td>71.3</td>\n",
              "      <td>0.002663</td>\n",
              "      <td>125.201</td>\n",
              "    </tr>\n",
              "    <tr>\n",
              "      <th>2</th>\n",
              "      <td>1250</td>\n",
              "      <td>0.0</td>\n",
              "      <td>0.3048</td>\n",
              "      <td>71.3</td>\n",
              "      <td>0.002663</td>\n",
              "      <td>125.951</td>\n",
              "    </tr>\n",
              "    <tr>\n",
              "      <th>3</th>\n",
              "      <td>1600</td>\n",
              "      <td>0.0</td>\n",
              "      <td>0.3048</td>\n",
              "      <td>71.3</td>\n",
              "      <td>0.002663</td>\n",
              "      <td>127.591</td>\n",
              "    </tr>\n",
              "    <tr>\n",
              "      <th>4</th>\n",
              "      <td>2000</td>\n",
              "      <td>0.0</td>\n",
              "      <td>0.3048</td>\n",
              "      <td>71.3</td>\n",
              "      <td>0.002663</td>\n",
              "      <td>127.461</td>\n",
              "    </tr>\n",
              "  </tbody>\n",
              "</table>\n",
              "</div>"
            ],
            "text/plain": [
              "      0    1       2     3         4        5\n",
              "0   800  0.0  0.3048  71.3  0.002663  126.201\n",
              "1  1000  0.0  0.3048  71.3  0.002663  125.201\n",
              "2  1250  0.0  0.3048  71.3  0.002663  125.951\n",
              "3  1600  0.0  0.3048  71.3  0.002663  127.591\n",
              "4  2000  0.0  0.3048  71.3  0.002663  127.461"
            ]
          },
          "metadata": {
            "tags": []
          },
          "execution_count": 3
        }
      ]
    },
    {
      "cell_type": "code",
      "metadata": {
        "id": "b0_GJeRw8Tgn",
        "outputId": "ccd526e7-e6d0-4584-9aea-a28c8de6a0b4",
        "colab": {
          "base_uri": "https://localhost:8080/"
        }
      },
      "source": [
        "df.info()"
      ],
      "execution_count": 4,
      "outputs": [
        {
          "output_type": "stream",
          "text": [
            "<class 'pandas.core.frame.DataFrame'>\n",
            "RangeIndex: 1503 entries, 0 to 1502\n",
            "Data columns (total 6 columns):\n",
            " #   Column  Non-Null Count  Dtype  \n",
            "---  ------  --------------  -----  \n",
            " 0   0       1503 non-null   int64  \n",
            " 1   1       1503 non-null   float64\n",
            " 2   2       1503 non-null   float64\n",
            " 3   3       1503 non-null   float64\n",
            " 4   4       1503 non-null   float64\n",
            " 5   5       1503 non-null   float64\n",
            "dtypes: float64(5), int64(1)\n",
            "memory usage: 70.6 KB\n"
          ],
          "name": "stdout"
        }
      ]
    },
    {
      "cell_type": "code",
      "metadata": {
        "id": "zePC1TPN8aJq",
        "outputId": "22aef7f3-046d-40a0-b111-19444f954421",
        "colab": {
          "base_uri": "https://localhost:8080/"
        }
      },
      "source": [
        "df.keys()"
      ],
      "execution_count": 5,
      "outputs": [
        {
          "output_type": "execute_result",
          "data": {
            "text/plain": [
              "Int64Index([0, 1, 2, 3, 4, 5], dtype='int64')"
            ]
          },
          "metadata": {
            "tags": []
          },
          "execution_count": 5
        }
      ]
    },
    {
      "cell_type": "code",
      "metadata": {
        "id": "YnXxAo7b8hvE"
      },
      "source": [
        "data = df[[0,1,2,3,4]].values\n",
        "target = df[5].values"
      ],
      "execution_count": 7,
      "outputs": []
    },
    {
      "cell_type": "code",
      "metadata": {
        "id": "fXSmO_Vg9T7Z"
      },
      "source": [
        "from sklearn.model_selection import train_test_split\n",
        "X_train, X_test, y_train, y_test = train_test_split(data, target, test_size=0.33)"
      ],
      "execution_count": 8,
      "outputs": []
    },
    {
      "cell_type": "code",
      "metadata": {
        "id": "pa3DGAYgAg3e"
      },
      "source": [
        "from sklearn.linear_model import LinearRegression"
      ],
      "execution_count": 9,
      "outputs": []
    },
    {
      "cell_type": "code",
      "metadata": {
        "id": "MMJC8U84AmVV",
        "outputId": "39f877a5-482a-46a0-9753-1570b979406b",
        "colab": {
          "base_uri": "https://localhost:8080/"
        }
      },
      "source": [
        "model = LinearRegression()\n",
        "model.fit(X_train, y_train)"
      ],
      "execution_count": 10,
      "outputs": [
        {
          "output_type": "execute_result",
          "data": {
            "text/plain": [
              "LinearRegression(copy_X=True, fit_intercept=True, n_jobs=None, normalize=False)"
            ]
          },
          "metadata": {
            "tags": []
          },
          "execution_count": 10
        }
      ]
    },
    {
      "cell_type": "code",
      "metadata": {
        "id": "7nmSIvy6Amya",
        "outputId": "9d2b701d-01b2-46b1-da1e-fe0d398d3f43",
        "colab": {
          "base_uri": "https://localhost:8080/"
        }
      },
      "source": [
        "print(model.score(X_train, y_train))\n",
        "print(model.score(X_test, y_test))"
      ],
      "execution_count": 11,
      "outputs": [
        {
          "output_type": "stream",
          "text": [
            "0.525752750841504\n",
            "0.4921114122151647\n"
          ],
          "name": "stdout"
        }
      ]
    },
    {
      "cell_type": "code",
      "metadata": {
        "id": "HEn8JEbyAxNK"
      },
      "source": [
        "predictions = model.predict(X_test)"
      ],
      "execution_count": 12,
      "outputs": []
    },
    {
      "cell_type": "code",
      "metadata": {
        "id": "64K2oWqAA0S8",
        "outputId": "168e9387-fd99-4ac7-8bdb-a53a19fd1d7d",
        "colab": {
          "base_uri": "https://localhost:8080/"
        }
      },
      "source": [
        "predictions"
      ],
      "execution_count": 13,
      "outputs": [
        {
          "output_type": "execute_result",
          "data": {
            "text/plain": [
              "array([118.55862517, 131.55764185, 132.23386131, 129.13281431,\n",
              "       119.04803422, 120.27369873, 129.43601527, 120.90179408,\n",
              "       123.66120083, 130.57158645, 131.95789351, 129.59906203,\n",
              "       129.76767207, 126.47069859, 123.09009439, 124.63372525,\n",
              "       125.51492193, 126.49999004, 125.89300234, 131.4466095 ,\n",
              "       124.7290947 , 120.1701734 , 125.93852705, 121.1520236 ,\n",
              "       136.93756423, 133.5384559 , 118.1483743 , 120.20303958,\n",
              "       125.71268207, 120.53657134, 127.89603994, 132.01502641,\n",
              "       130.54376715, 121.91717379, 126.34966253, 121.13852034,\n",
              "       130.96848721, 120.12877517, 124.43423667, 129.22011271,\n",
              "       129.60258368, 116.38360107, 118.44432176, 128.7356691 ,\n",
              "       113.72109727, 126.22122339, 133.4309254 , 132.30657754,\n",
              "       129.88175   , 123.60951923, 118.04164532, 131.75076735,\n",
              "       121.93122353, 125.97200286, 131.26133689, 126.27194058,\n",
              "       121.08888848, 124.83524736, 124.46154291, 126.74919073,\n",
              "       132.43626157, 127.14723889, 118.31465184, 126.43405432,\n",
              "       121.95358353, 132.13318822, 128.70127004, 122.24723989,\n",
              "       124.30955044, 125.26727126, 120.67842108, 130.03662145,\n",
              "       124.59349112, 126.15133662, 128.44750299, 126.92479211,\n",
              "       125.28457525, 126.33882048, 124.17225296, 123.26984257,\n",
              "       119.03601028, 128.74292862, 129.05256305, 120.93776093,\n",
              "       122.55835426, 119.30687691, 120.16599592, 125.54591761,\n",
              "       120.36554288, 127.49456611, 129.82573548, 119.94846771,\n",
              "       128.6739068 , 122.96116962, 124.02198817, 124.11077934,\n",
              "       121.41052647, 129.07935649, 120.28743436, 120.65688431,\n",
              "       120.61645806, 123.44466123, 122.48162016, 117.09096145,\n",
              "       135.04202418, 127.87329097, 128.06511622, 123.65357327,\n",
              "       120.92312354, 118.62569843, 123.56814345, 125.98763187,\n",
              "       133.10384857, 119.42475995, 123.72853619, 132.57829567,\n",
              "       133.43412755, 128.15941397, 124.1811129 , 121.7496492 ,\n",
              "       123.88977876, 133.047052  , 128.76281104, 115.29530855,\n",
              "       122.63699481, 124.70507711, 127.45393114, 122.00189912,\n",
              "       120.24551454, 121.62940872, 126.1242233 , 135.52867611,\n",
              "       116.93935989, 121.60756817, 130.89576125, 131.50262402,\n",
              "       114.47335372, 129.31918374, 122.48918784, 118.25954454,\n",
              "       125.26004014, 122.85184353, 127.79619063, 123.35943754,\n",
              "       127.22716404, 122.98373179, 116.67774239, 134.00626634,\n",
              "       117.21714108, 130.38060322, 132.49517554, 127.95036871,\n",
              "       127.35180991, 131.48907872, 131.37553996, 127.78655011,\n",
              "       126.77350968, 123.42418353, 118.20468258, 129.17221287,\n",
              "       129.7627044 , 122.95261677, 131.67378078, 124.24931599,\n",
              "       112.64138368, 131.46181012, 124.6352041 , 129.43155271,\n",
              "       118.00341888, 122.32975544, 128.48358877, 112.54902389,\n",
              "       114.62774876, 126.10803458, 117.95535272, 124.9771223 ,\n",
              "       129.51676129, 118.01629301, 128.86984093, 125.17399938,\n",
              "       125.89199677, 130.29984361, 120.77508667, 129.4200274 ,\n",
              "       115.88313172, 125.67760153, 123.00522366, 122.01661919,\n",
              "       126.05511069, 121.19248862, 128.79760838, 125.63770874,\n",
              "       127.95885753, 133.18205571, 123.73918915, 127.5050128 ,\n",
              "       128.60965286, 119.9996811 , 126.3379835 , 118.60370233,\n",
              "       125.70896438, 122.16236917, 119.03588388, 129.82056248,\n",
              "       128.44454024, 124.56462407, 117.40628266, 128.68198939,\n",
              "       126.69963181, 126.2198531 , 122.40021714, 131.08924028,\n",
              "       118.81841553, 122.77513593, 117.34212743, 130.38958907,\n",
              "       119.62534912, 123.87802826, 125.28211521, 129.54402989,\n",
              "       128.96371855, 126.97588642, 116.90798336, 127.15730503,\n",
              "       125.69568545, 119.25131244, 123.59209966, 125.47681046,\n",
              "       122.18519009, 124.38090231, 133.30639185, 120.35276297,\n",
              "       129.86001485, 126.59861084, 130.16453369, 121.82258441,\n",
              "       129.03101763, 131.1551011 , 134.27087786, 130.22101817,\n",
              "       125.0005666 , 124.25712368, 127.70556924, 133.44909761,\n",
              "       122.29970701, 126.55660566, 124.67321797, 130.22891814,\n",
              "       111.87995528, 121.50129259, 130.92973369, 122.15335926,\n",
              "       113.02789569, 121.46141267, 125.56063695, 123.1414101 ,\n",
              "       121.09112725, 134.06949977, 124.87775723, 133.75219818,\n",
              "       125.59331608, 128.95071242, 125.38352235, 127.60478554,\n",
              "       122.62080342, 115.14242233, 126.96713161, 124.24921839,\n",
              "       130.64648185, 127.16616309, 127.77987642, 126.23051104,\n",
              "       127.83163333, 131.76546834, 120.87329751, 132.21870963,\n",
              "       128.84803806, 114.49407272, 112.13502341, 124.01683472,\n",
              "       127.89731652, 121.97314335, 123.91750264, 127.22526883,\n",
              "       126.64811194, 126.2990797 , 135.30823724, 124.99475395,\n",
              "       120.53411378, 120.79237842, 120.77934311, 122.38782647,\n",
              "       127.48460867, 127.99119414, 122.37329525, 119.40757016,\n",
              "       125.82132119, 128.04817919, 127.02763511, 124.71096841,\n",
              "       130.80749217, 126.82662896, 117.94071534, 129.71068897,\n",
              "       130.55012671, 127.5534247 , 126.95333614, 128.70143302,\n",
              "       126.28930446, 125.6689023 , 124.9802226 , 127.29856516,\n",
              "       120.87292597, 124.67118147, 124.03002696, 127.06295344,\n",
              "       124.70245947, 129.54969732, 122.03847195, 118.26326161,\n",
              "       120.24014126, 134.35333605, 122.01841849, 132.78153783,\n",
              "       122.07178589, 122.35412008, 119.31975884, 119.07107196,\n",
              "       121.55825966, 121.16286565, 133.45956593, 124.73930694,\n",
              "       117.32736052, 124.00778715, 126.51090108, 129.57531994,\n",
              "       120.82954864, 123.83921625, 124.5494398 , 128.60507788,\n",
              "       124.82846085, 115.99566651, 124.09469102, 124.98122491,\n",
              "       130.33979356, 121.4143182 , 127.19078529, 126.68046293,\n",
              "       116.63578753, 123.63711261, 124.27480427, 131.70002994,\n",
              "       123.37274155, 127.44347179, 117.59901707, 119.16619603,\n",
              "       116.66025743, 131.94158883, 123.55024825, 124.14097954,\n",
              "       120.19696684, 127.44101482, 125.95374932, 124.41598285,\n",
              "       125.79697467, 118.67479182, 115.22227437, 124.66518432,\n",
              "       124.95429297, 127.11479507, 125.96788069, 130.45846732,\n",
              "       124.38852306, 116.93945098, 126.58398743, 120.1497314 ,\n",
              "       123.1641457 , 121.46269514, 125.64370589, 118.83429429,\n",
              "       123.66332704, 131.52036877, 122.9955748 , 129.28789336,\n",
              "       124.88879887, 131.03549162, 124.96796051, 124.59529756,\n",
              "       125.30129711, 129.86210052, 120.57074726, 127.80993228,\n",
              "       129.65451381, 127.76637001, 123.41828101, 122.7817555 ,\n",
              "       125.18485582, 122.54292236, 125.39479468, 119.01949091,\n",
              "       124.11393451, 125.82174954, 110.91030797, 135.04889739,\n",
              "       126.17454614, 127.31295365, 132.7228772 , 126.3792855 ,\n",
              "       127.19237751, 125.11397724, 124.35221699, 121.41181396,\n",
              "       123.50809735, 129.83786343, 122.96139888, 123.17997737,\n",
              "       126.08859096, 128.28182437, 128.86899271, 117.68030029,\n",
              "       128.00328836, 129.69535511, 120.19141222, 132.23982965,\n",
              "       123.50241147, 127.86025513, 126.54034638, 125.56782197,\n",
              "       127.0925918 , 133.30021752, 124.52327758, 130.74825381,\n",
              "       127.07211152, 122.98750898, 131.18866282, 117.83257125,\n",
              "       131.33720298, 120.73799425, 128.06694014, 130.11989442,\n",
              "       116.0103039 , 120.05152911, 130.41105401, 124.8976656 ,\n",
              "       126.53726397, 130.83253926, 127.13152681, 119.09537483,\n",
              "       129.0598439 , 128.59694386, 132.35610284, 118.58906495,\n",
              "       123.91983463, 126.27501325, 124.71955521, 121.37533973,\n",
              "       113.25907883, 116.36960301, 130.20882584, 129.89541754,\n",
              "       121.76383458, 128.9198499 , 134.72472259, 124.87801525,\n",
              "       123.48829039, 116.8882827 , 122.42507944, 126.60092103,\n",
              "       118.44587571, 124.012542  , 123.85505348, 126.98633311,\n",
              "       121.7177876 , 128.28386931, 124.85055268, 127.25721247,\n",
              "       119.10561322, 121.70360063, 128.39350075, 122.9830192 ,\n",
              "       118.42879125, 129.87815992, 124.13745707, 122.58141801,\n",
              "       115.02101068, 127.93795975, 123.88800829, 127.91496602,\n",
              "       125.37921239, 118.70366161, 123.10618275, 129.74439849,\n",
              "       122.57419985, 127.10809206, 121.6644704 , 129.41706466])"
            ]
          },
          "metadata": {
            "tags": []
          },
          "execution_count": 13
        }
      ]
    },
    {
      "cell_type": "code",
      "metadata": {
        "id": "vpvX1fxYA102",
        "outputId": "36654729-fd09-4c3c-9d33-375426ffca24",
        "colab": {
          "base_uri": "https://localhost:8080/"
        }
      },
      "source": [
        "from sklearn.ensemble import RandomForestRegressor\n",
        "\n",
        "model2 = RandomForestRegressor()\n",
        "model2.fit(X_train, y_train)"
      ],
      "execution_count": 14,
      "outputs": [
        {
          "output_type": "execute_result",
          "data": {
            "text/plain": [
              "RandomForestRegressor(bootstrap=True, ccp_alpha=0.0, criterion='mse',\n",
              "                      max_depth=None, max_features='auto', max_leaf_nodes=None,\n",
              "                      max_samples=None, min_impurity_decrease=0.0,\n",
              "                      min_impurity_split=None, min_samples_leaf=1,\n",
              "                      min_samples_split=2, min_weight_fraction_leaf=0.0,\n",
              "                      n_estimators=100, n_jobs=None, oob_score=False,\n",
              "                      random_state=None, verbose=0, warm_start=False)"
            ]
          },
          "metadata": {
            "tags": []
          },
          "execution_count": 14
        }
      ]
    },
    {
      "cell_type": "code",
      "metadata": {
        "id": "qtiNM6gAA7WB",
        "outputId": "18664206-d130-4e1a-f323-c1af71a623fc",
        "colab": {
          "base_uri": "https://localhost:8080/"
        }
      },
      "source": [
        "print(model2.score(X_train, y_train))\n",
        "print(model2.score(X_test, y_test))"
      ],
      "execution_count": 15,
      "outputs": [
        {
          "output_type": "stream",
          "text": [
            "0.9906934037066669\n",
            "0.910246606627333\n"
          ],
          "name": "stdout"
        }
      ]
    },
    {
      "cell_type": "code",
      "metadata": {
        "id": "N-7dNDo1A96_"
      },
      "source": [
        "from sklearn.neural_network import MLPRegressor\n",
        "\n",
        "from sklearn.preprocessing import StandardScaler\n",
        "\n",
        "scaler = StandardScaler()\n",
        "X_train2 = scaler.fit_transform(X_train)\n",
        "X_test2 = scaler.transform(X_test)\n",
        "scaler2 = StandardScaler()\n",
        "y_train2 = scaler2.fit_transform(np.expand_dims(y_train, -1)).ravel()\n",
        "y_test2 = scaler2.fit_transform(np.expand_dims(y_test, -1)).ravel()\n"
      ],
      "execution_count": 16,
      "outputs": []
    },
    {
      "cell_type": "code",
      "metadata": {
        "id": "jmTeruYYBFS7",
        "outputId": "d1fea5a7-52be-4469-d2c5-96e385b45359",
        "colab": {
          "base_uri": "https://localhost:8080/"
        }
      },
      "source": [
        "model = MLPRegressor(max_iter=500)\n",
        "model.fit(X_train2, y_train2)\n",
        "\n",
        "print(model.score(X_train2, y_train2))\n",
        "print(model.score(X_test2, y_test2))"
      ],
      "execution_count": 17,
      "outputs": [
        {
          "output_type": "stream",
          "text": [
            "0.8515931326339969\n",
            "0.7836947440888313\n"
          ],
          "name": "stdout"
        }
      ]
    },
    {
      "cell_type": "code",
      "metadata": {
        "id": "f0bLg4V6BLF1"
      },
      "source": [
        ""
      ],
      "execution_count": null,
      "outputs": []
    }
  ]
}